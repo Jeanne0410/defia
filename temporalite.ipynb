{
  "cells": [
    {
      "cell_type": "markdown",
      "metadata": {
        "id": "view-in-github",
        "colab_type": "text"
      },
      "source": [
        "<a href=\"https://colab.research.google.com/github/Jeanne0410/defia/blob/rfm-jeanne/temporalite.ipynb\" target=\"_parent\"><img src=\"https://colab.research.google.com/assets/colab-badge.svg\" alt=\"Open In Colab\"/></a>"
      ]
    },
    {
      "cell_type": "markdown",
      "metadata": {
        "id": "4Vw_QdqFGBM_"
      },
      "source": [
        "séparer par type d'achat"
      ]
    },
    {
      "cell_type": "markdown",
      "metadata": {
        "id": "Qu_S-_4IGBNA"
      },
      "source": [
        "les clients achètent de manière générale du pgc et des PRODUITS FRAIS :\n",
        "favoriser ce type d'achat"
      ]
    },
    {
      "cell_type": "markdown",
      "metadata": {
        "id": "HSoZgojkGBNB"
      },
      "source": [
        "supprimer textile et bazar des calculs car il n'y a pas trop de recurrence c'est souvent des produits acheter aléatoirement au moment du besoin"
      ]
    },
    {
      "cell_type": "code",
      "execution_count": null,
      "metadata": {
        "id": "xxvbhS2CGBNB"
      },
      "outputs": [],
      "source": [
        "import numpy as np # linear algebra\n",
        "import pandas as pd # data processing, CSV file I/O (e.g. pd.read_csv)\n",
        "import dask\n",
        "from sklearn.model_selection import train_test_split\n",
        "from sklearn.ensemble import RandomForestClassifier\n",
        "from sklearn.metrics import accuracy_score, classification_report\n",
        "# Input data files are available in the read-only \"../input/\" directory\n",
        "# For example, running this (by clicking run or pressing Shift+Enter) will list all files under the input directory\n",
        "\n",
        "import os\n",
        "for dirname, _, filenames in os.walk('/kaggle/input'):\n",
        "    for filename in filenames:\n",
        "        print(os.path.join(dirname, filename))"
      ]
    },
    {
      "cell_type": "code",
      "execution_count": null,
      "metadata": {
        "colab": {
          "base_uri": "https://localhost:8080/"
        },
        "id": "vvXfgEaaGBNB",
        "outputId": "3c8728ca-e5a3-4617-9ada-b8ce58d6bee5"
      },
      "outputs": [
        {
          "output_type": "stream",
          "name": "stderr",
          "text": [
            "100%|██████████| 1/1 [00:25<00:00, 25.75s/it]\n",
            "<ipython-input-21-47f0d5653ac2>:15: DtypeWarning: Columns (43) have mixed types. Specify dtype option on import or set low_memory=False.\n",
            "  products_data = pd.read_csv('products_data.csv')\n"
          ]
        }
      ],
      "source": [
        "# Import libraries\n",
        "from tqdm import tqdm\n",
        "import matplotlib.pyplot as plt\n",
        "pd.set_option('display.max_columns', None)\n",
        "\n",
        "train_dataframes = []\n",
        "for i in tqdm(range(1, 2)):\n",
        "    train_dataframes.append(pd.read_csv(f'train_data_part_{i}.csv'))\n",
        "train_data = pd.concat(train_dataframes, ignore_index=True)\n",
        "\n",
        "# free up memory by deleting the dataframes we no longer need\n",
        "del train_dataframes\n",
        "\n",
        "# This code reads the data from a CSV file named \"products_data.csv\" into a pandas DataFrame\n",
        "products_data = pd.read_csv('products_data.csv')\n",
        "\n",
        "# This code reads the data from a CSV file named \"test_data.csv\" into a pandas DataFrame\n",
        "test_data = pd.read_csv('test_data.csv')"
      ]
    },
    {
      "cell_type": "code",
      "execution_count": null,
      "metadata": {
        "id": "f7bD2AvbGBNC"
      },
      "outputs": [],
      "source": [
        "columns_to_keep = ['date', 'transaction_id', 'customer_id', 'product_id']\n",
        "train_data = train_data[columns_to_keep]"
      ]
    },
    {
      "cell_type": "code",
      "execution_count": null,
      "metadata": {
        "colab": {
          "base_uri": "https://localhost:8080/"
        },
        "id": "t4sW219NGBND",
        "outputId": "69b875a1-81eb-4ba2-d73e-a68d7bb0432d"
      },
      "outputs": [
        {
          "output_type": "stream",
          "name": "stdout",
          "text": [
            "        date       transaction_id   customer_id     product_id  month\n",
            "0 2023-11-15  Transaction_1730125  Household_39   Product_5362     11\n",
            "1 2022-07-20  Transaction_1560535  Household_39  Product_67174      7\n",
            "2 2022-07-20  Transaction_1560535  Household_39  Product_82254      7\n",
            "3 2023-11-15  Transaction_1730125  Household_39   Product_3895     11\n",
            "4 2022-07-20  Transaction_1560535  Household_39  Product_34014      7\n"
          ]
        }
      ],
      "source": [
        "import pandas as pd\n",
        "\n",
        "# Assurer que la colonne 'date' est en format datetime\n",
        "train_data['date'] = pd.to_datetime(train_data['date'])\n",
        "\n",
        "# Extraire les informations temporelles\n",
        "train_data['month'] = train_data['date'].dt.month        # Mois de l'année\n",
        "#train_data['day_of_week'] = train_data['date'].dt.weekday    # jour de la semaine (0 = lundi, 6 = dimanche)\n",
        "#l'information sur les jours de la semaine aurai pu etre interéssante mais pour les données test nous ne savons pas sur quel jour ce passe les achats\n",
        "\n",
        "# Afficher un aperçu des données\n",
        "print(train_data.head())\n",
        "\n",
        "# Suppression de la colonne date si elle n'est plus nécessaire pour éviter la multicolinéarité\n",
        "train_data = train_data.drop(columns=['date'])\n"
      ]
    },
    {
      "cell_type": "markdown",
      "source": [
        "On selectionne les produits de Janvier et Fevrier pour essayer de capter une saisonnalité annuelle"
      ],
      "metadata": {
        "id": "522v-mYIMYwB"
      }
    },
    {
      "cell_type": "code",
      "execution_count": null,
      "metadata": {
        "colab": {
          "base_uri": "https://localhost:8080/"
        },
        "id": "poQfwLFyGBNE",
        "outputId": "e2b6c762-ce59-4702-ccb9-f88b5605210f"
      },
      "outputs": [
        {
          "output_type": "stream",
          "name": "stdout",
          "text": [
            "month\n",
            "1    754535\n",
            "2    669639\n",
            "Name: count, dtype: int64\n"
          ]
        }
      ],
      "source": [
        "# Filtrer pour les mois de janvier et fevrier\n",
        "train_data_filtered = train_data[train_data['month'].isin([1, 2])]\n",
        "\n",
        "# Vérifier les données filtrées\n",
        "print(train_data_filtered['month'].value_counts())\n"
      ]
    },
    {
      "cell_type": "markdown",
      "source": [
        "On garde les produits qui sont les plus fréquemment achetés"
      ],
      "metadata": {
        "id": "OeynfDDBMlzF"
      }
    },
    {
      "cell_type": "code",
      "source": [
        "# Identifier les produits les plus fréquents\n",
        "top_products = train_data_filtered['product_id'].value_counts().nlargest(1000).index\n",
        "print(top_products)\n",
        "#train_data_filtered['product_id'] = train_data_filtered['product_id'].apply(lambda x: x if x in top_products else 'autre')\n",
        "# Convertir top_products en un ensemble pour des recherches plus rapides\n",
        "top_products_set = set(top_products)\n",
        "\n",
        "# Filtrer les lignes où product_id est dans top_products\n",
        "train_data_filtered = train_data_filtered[train_data_filtered['product_id'].isin(top_products_set)]\n",
        "\n",
        "# Réinitialiser l'index pour garder un DataFrame propre\n",
        "train_data_filtered = train_data_filtered.reset_index(drop=True)\n",
        "print(train_data_filtered.shape)\n",
        "print(train_data.shape)\n"
      ],
      "metadata": {
        "colab": {
          "base_uri": "https://localhost:8080/"
        },
        "id": "7dKVD-XKKXMk",
        "outputId": "fa3b4675-3e62-445d-bd2a-e8d93df5732a"
      },
      "execution_count": null,
      "outputs": [
        {
          "output_type": "stream",
          "name": "stdout",
          "text": [
            "Index(['Product_42748', 'Product_23971', 'Product_57942', 'Product_40951',\n",
            "       'Product_2793', 'Product_9790', 'Product_73736', 'Product_51497',\n",
            "       'Product_63301', 'Product_36019', 'Product_1370', 'Product_22371',\n",
            "       'Product_32922', 'Product_64067', 'Product_47749', 'Product_36725',\n",
            "       'Product_33592', 'Product_39751', 'Product_18947', 'Product_60177',\n",
            "       'Product_35439', 'Product_37906', 'Product_80972', 'Product_72686',\n",
            "       'Product_70197', 'Product_79974', 'Product_42910', 'Product_892',\n",
            "       'Product_72095', 'Product_54653', 'Product_41366', 'Product_49539',\n",
            "       'Product_61960', 'Product_69958', 'Product_8582', 'Product_77951',\n",
            "       'Product_74083', 'Product_35597', 'Product_61170', 'Product_17821',\n",
            "       'Product_2119', 'Product_7217', 'Product_6880', 'Product_31203',\n",
            "       'Product_59110', 'Product_4700', 'Product_62701', 'Product_61035',\n",
            "       'Product_17626', 'Product_76686', 'Product_30680', 'Product_20421',\n",
            "       'Product_82444', 'Product_28414', 'Product_80497', 'Product_8872',\n",
            "       'Product_1176', 'Product_46734', 'Product_22582', 'Product_19494',\n",
            "       'Product_75779', 'Product_73032', 'Product_41119', 'Product_33869',\n",
            "       'Product_3176', 'Product_35646', 'Product_47269', 'Product_43071',\n",
            "       'Product_47309', 'Product_53893', 'Product_41919', 'Product_59935',\n",
            "       'Product_38230', 'Product_76090', 'Product_23490', 'Product_56083',\n",
            "       'Product_1555', 'Product_58326', 'Product_64427', 'Product_16477',\n",
            "       'Product_48044', 'Product_65600', 'Product_37586', 'Product_52162',\n",
            "       'Product_13055', 'Product_55299', 'Product_35862', 'Product_10669',\n",
            "       'Product_21039', 'Product_75176', 'Product_62617', 'Product_212',\n",
            "       'Product_73333', 'Product_24500', 'Product_24217', 'Product_42347',\n",
            "       'Product_28080', 'Product_28416', 'Product_62013', 'Product_30962'],\n",
            "      dtype='object', name='product_id')\n",
            "(1424174, 4)\n",
            "(8757405, 4)\n"
          ]
        },
        {
          "output_type": "stream",
          "name": "stderr",
          "text": [
            "<ipython-input-7-57a1f561f237>:4: SettingWithCopyWarning: \n",
            "A value is trying to be set on a copy of a slice from a DataFrame.\n",
            "Try using .loc[row_indexer,col_indexer] = value instead\n",
            "\n",
            "See the caveats in the documentation: https://pandas.pydata.org/pandas-docs/stable/user_guide/indexing.html#returning-a-view-versus-a-copy\n",
            "  train_data_filtered['product_id'] = train_data_filtered['product_id'].apply(lambda x: x if x in top_products else 'autre')\n"
          ]
        }
      ]
    },
    {
      "cell_type": "code",
      "execution_count": null,
      "metadata": {
        "id": "VGL2l3SOGBNE"
      },
      "outputs": [],
      "source": [
        "'''# Trier les données par customer_id et date\n",
        "train_data = train_data.sort_values(by=['customer_id', 'date'])\n",
        "\n",
        "# Extraire les 10 premières transactions de chaque client\n",
        "first_50_purchases = train_data.groupby('customer_id').head(50)\n",
        "\n",
        "# Extraire des variables temporelles des dates\n",
        "first_50_purchases['date'] = pd.to_datetime(first_50_purchases['date'])\n",
        "first_50_purchases['month'] = first_50_purchases['date'].dt.month\n",
        "\n",
        "# Vérifier les données\n",
        "print(first_50_purchases.head())\n",
        "\n",
        "# Optionnel : Suppression de la colonne date si non nécessaire\n",
        "#first_10_purchases = first_10_purchases.drop(columns=['date'])\n",
        "'''"
      ]
    },
    {
      "cell_type": "code",
      "source": [
        "from sklearn.preprocessing import LabelEncoder\n",
        "import numpy as np\n",
        "import pandas as pd\n",
        "from tensorflow.keras.models import Sequential\n",
        "from tensorflow.keras.layers import Embedding, LSTM, Dense\n",
        "from sklearn.model_selection import train_test_split\n",
        "from tensorflow.keras.preprocessing.sequence import pad_sequences\n",
        "from sklearn.preprocessing import LabelEncoder\n",
        "from sklearn.utils.class_weight import compute_class_weight\n",
        "from tensorflow.keras.callbacks import EarlyStopping\n",
        "from tensorflow.keras.utils import to_categorical"
      ],
      "metadata": {
        "id": "CQCAjdmENk1L"
      },
      "execution_count": null,
      "outputs": []
    },
    {
      "cell_type": "code",
      "source": [
        "# Séparer X et y\n",
        "X = train_data_filtered.drop(columns=[\"product_id\"])  # Toutes les colonnes sauf product_id\n",
        "y = train_data_filtered[\"product_id\"]  # La cible (product_id)\n",
        "\n",
        "'''# Diviser les données en batchs\n",
        "batch_size = 10000\n",
        "batches = [\n",
        "    train_data_filtered.iloc[i:i + batch_size]\n",
        "    for i in range(0, train_data_filtered.shape[0], batch_size)\n",
        "]'''\n",
        "print(X.head())\n",
        "print(X.shape)\n",
        "print(y.shape)"
      ],
      "metadata": {
        "colab": {
          "base_uri": "https://localhost:8080/"
        },
        "id": "pDGLOSJWNove",
        "outputId": "a1b101d6-f9ca-4f59-f8ab-22e3ca5d4e24"
      },
      "execution_count": null,
      "outputs": [
        {
          "output_type": "stream",
          "name": "stdout",
          "text": [
            "         transaction_id     customer_id  month\n",
            "7   Transaction_1318448   Household_416      2\n",
            "13  Transaction_2376486  Household_1264      1\n",
            "14  Transaction_2735684  Household_1750      2\n",
            "17  Transaction_1686434  Household_1956      2\n",
            "18  Transaction_2032633  Household_1956      1\n",
            "(1424174, 3)\n",
            "(1424174,)\n"
          ]
        }
      ]
    },
    {
      "cell_type": "code",
      "source": [
        "# Encodage de la variable cible (product_id)\n",
        "product_encoder = LabelEncoder()\n",
        "y_encoded = product_encoder.fit_transform(y)\n",
        "\n",
        "# Encodage des colonnes catégorielles dans X\n",
        "categorical_columns = X.select_dtypes(include=[\"object\"]).columns\n"
      ],
      "metadata": {
        "id": "eqHDu_cBPrQF"
      },
      "execution_count": null,
      "outputs": []
    },
    {
      "cell_type": "code",
      "source": [
        "# Appliquer OneHotEncoder sur les colonnes catégorielles\n",
        "from sklearn.preprocessing import OrdinalEncoder\n",
        "\n",
        "encoder = OrdinalEncoder(handle_unknown=\"use_encoded_value\", unknown_value=-1)\n",
        "X[categorical_columns] = encoder.fit_transform(X[categorical_columns])\n"
      ],
      "metadata": {
        "id": "zG9IHZiqQ8r3"
      },
      "execution_count": null,
      "outputs": []
    },
    {
      "cell_type": "code",
      "execution_count": null,
      "metadata": {
        "id": "tZe9iBJ5GBNF"
      },
      "outputs": [],
      "source": [
        "numerical_columns = X.select_dtypes(exclude=[\"object\"]).columns\n",
        "\n",
        "# Ajouter les colonnes numériques aux données encodées\n",
        "X_encoded = pd.concat([X[categorical_columns], X[numerical_columns]], axis=1)\n",
        "\n",
        "# Assurez-vous que toutes les colonnes sont bien au format float32 pour économiser de la mémoire\n",
        "X_encoded = X_encoded.astype(np.float32)\n",
        "\n",
        "# Conversion en matrice NumPy\n",
        "X_train = X_encoded.to_numpy()\n",
        "y_train = to_categorical(y_encoded, num_classes=len(product_encoder.classes_))\n",
        "\n",
        "# Vérifiez les dimensions\n",
        "print(f\"Dimensions de y_train : {y_train.shape}\")\n",
        "print(f\"Dimensions de X_train : {X_train.shape}\")\n"
      ]
    },
    {
      "cell_type": "code",
      "execution_count": null,
      "metadata": {
        "id": "_dzmwRVhGBNG"
      },
      "outputs": [],
      "source": [
        "# Encodage des données de test\n",
        "X_test = test_data[['transaction_id', 'customer_id']]  # Select only the columns present in test_data and used for training\n",
        "\n",
        "# Get categorical columns present in both train and test data\n",
        "categorical_columns_test = list(set(categorical_columns) & set(X_test.columns))\n",
        "\n",
        "# Create missing columns in X_test and fill with a placeholder value (e.g., 0)\n",
        "# We fill with 0 because the numerical columns are related to the training data and do not exist in the test data.\n",
        "# Instead of 'missing', we use 0 to represent the absence of these features in the test data.\n",
        "for col in numerical_columns:\n",
        "    if col not in X_test.columns:\n",
        "        X_test[col] = 0\n",
        "\n",
        "# Create missing columns in X_test and fill with a placeholder value (e.g., 'missing')\n",
        "for col in categorical_columns:\n",
        "    if col not in X_test.columns:\n",
        "        X_test[col] = 'missing'  # Or any other suitable placeholder\n",
        "\n",
        "# Now you can safely apply the transform\n",
        "X_test_encoded = pd.DataFrame(encoder.transform(X_test[categorical_columns]))\n",
        "\n",
        "# Continue with the rest of your code...\n",
        "x_test_final = pd.concat([X_test_encoded, X_test[numerical_columns].reset_index(drop=True)], axis=1)\n",
        "X_test_final = x_test_final.to_numpy()"
      ]
    },
    {
      "cell_type": "code",
      "execution_count": null,
      "metadata": {
        "colab": {
          "base_uri": "https://localhost:8080/"
        },
        "id": "mN3eB-BPGBNG",
        "outputId": "5c3d4fc3-16be-4fb9-eed0-c31a2c6c9264"
      },
      "outputs": [
        {
          "output_type": "stream",
          "name": "stderr",
          "text": [
            "/usr/local/lib/python3.10/dist-packages/keras/src/layers/core/dense.py:87: UserWarning: Do not pass an `input_shape`/`input_dim` argument to a layer. When using Sequential models, prefer using an `Input(shape)` object as the first layer in the model instead.\n",
            "  super().__init__(activity_regularizer=activity_regularizer, **kwargs)\n"
          ]
        },
        {
          "output_type": "stream",
          "name": "stdout",
          "text": [
            "Epoch 1/10\n",
            "\u001b[1m44506/44506\u001b[0m \u001b[32m━━━━━━━━━━━━━━━━━━━━\u001b[0m\u001b[37m\u001b[0m \u001b[1m123s\u001b[0m 3ms/step - accuracy: 0.8760 - loss: 11.2075\n",
            "Epoch 2/10\n",
            "\u001b[1m44506/44506\u001b[0m \u001b[32m━━━━━━━━━━━━━━━━━━━━\u001b[0m\u001b[37m\u001b[0m \u001b[1m118s\u001b[0m 3ms/step - accuracy: 0.8859 - loss: 0.8679\n",
            "Epoch 3/10\n",
            "\u001b[1m44506/44506\u001b[0m \u001b[32m━━━━━━━━━━━━━━━━━━━━\u001b[0m\u001b[37m\u001b[0m \u001b[1m123s\u001b[0m 3ms/step - accuracy: 0.8860 - loss: 0.8677\n",
            "Epoch 4/10\n",
            "\u001b[1m44506/44506\u001b[0m \u001b[32m━━━━━━━━━━━━━━━━━━━━\u001b[0m\u001b[37m\u001b[0m \u001b[1m127s\u001b[0m 3ms/step - accuracy: 0.8856 - loss: 0.8700\n",
            "Epoch 5/10\n",
            "\u001b[1m44506/44506\u001b[0m \u001b[32m━━━━━━━━━━━━━━━━━━━━\u001b[0m\u001b[37m\u001b[0m \u001b[1m137s\u001b[0m 3ms/step - accuracy: 0.8850 - loss: 0.8738\n",
            "Epoch 6/10\n",
            "\u001b[1m44506/44506\u001b[0m \u001b[32m━━━━━━━━━━━━━━━━━━━━\u001b[0m\u001b[37m\u001b[0m \u001b[1m146s\u001b[0m 3ms/step - accuracy: 0.8857 - loss: 0.8695\n",
            "Epoch 7/10\n",
            "\u001b[1m44506/44506\u001b[0m \u001b[32m━━━━━━━━━━━━━━━━━━━━\u001b[0m\u001b[37m\u001b[0m \u001b[1m133s\u001b[0m 3ms/step - accuracy: 0.8860 - loss: 0.8677\n",
            "Epoch 8/10\n",
            "\u001b[1m44506/44506\u001b[0m \u001b[32m━━━━━━━━━━━━━━━━━━━━\u001b[0m\u001b[37m\u001b[0m \u001b[1m122s\u001b[0m 3ms/step - accuracy: 0.8856 - loss: 0.8706\n",
            "Epoch 9/10\n",
            "\u001b[1m44506/44506\u001b[0m \u001b[32m━━━━━━━━━━━━━━━━━━━━\u001b[0m\u001b[37m\u001b[0m \u001b[1m119s\u001b[0m 3ms/step - accuracy: 0.8855 - loss: 0.8705\n",
            "Epoch 10/10\n",
            "\u001b[1m44506/44506\u001b[0m \u001b[32m━━━━━━━━━━━━━━━━━━━━\u001b[0m\u001b[37m\u001b[0m \u001b[1m143s\u001b[0m 3ms/step - accuracy: 0.8855 - loss: 0.8704\n"
          ]
        },
        {
          "output_type": "execute_result",
          "data": {
            "text/plain": [
              "<keras.src.callbacks.history.History at 0x7bc341fda8c0>"
            ]
          },
          "metadata": {},
          "execution_count": 18
        }
      ],
      "source": [
        "from tensorflow.keras.models import Sequential\n",
        "from tensorflow.keras.layers import Dense\n",
        "\n",
        "num_features = X_train.shape[1]  # Nombre de colonnes dans X\n",
        "num_products = y_train.shape[1]  # Nombre de classes (produits)\n",
        "\n",
        "model = Sequential()\n",
        "model.add(Dense(128, input_dim=num_features, activation=\"relu\"))\n",
        "model.add(Dense(64, activation=\"relu\"))\n",
        "model.add(Dense(num_products, activation=\"softmax\"))  # Prédictions des produits\n",
        "\n",
        "model.compile(optimizer=\"adam\", loss=\"categorical_crossentropy\", metrics=[\"accuracy\"])\n",
        "\n",
        "# Entraîner le modèle\n",
        "model.fit(X_train, y_train, epochs=10, batch_size=32)"
      ]
    },
    {
      "cell_type": "code",
      "execution_count": null,
      "metadata": {
        "id": "tcDLiDNWGBNG"
      },
      "outputs": [],
      "source": [
        "def predict_product(model, top_n=10):\n",
        "    \"\"\"\n",
        "    Génère les produits recommandés pour chaque instance dans X_train.\n",
        "\n",
        "    Args:\n",
        "        model: Le modèle entraîné.\n",
        "        top_n: Le nombre de produits recommandés (par défaut : 10).\n",
        "\n",
        "    Returns:\n",
        "        Une liste de produits recommandés pour chaque exemple d'entraînement.\n",
        "    \"\"\"\n",
        "    # Prédire les probabilités pour les données d'entraînement\n",
        "    prediction = model.predict(X_train)\n",
        "\n",
        "    # Obtenir les indices des produits les plus probables\n",
        "    top_products = np.argsort(prediction, axis=1)[:, -top_n:][:, ::-1]\n",
        "\n",
        "    # Décoder les produits pour retourner les identifiants originaux\n",
        "    return [product_encoder.inverse_transform(top_products[i]) for i in range(len(top_products))]\n"
      ]
    },
    {
      "cell_type": "code",
      "execution_count": null,
      "metadata": {
        "colab": {
          "base_uri": "https://localhost:8080/",
          "height": 342
        },
        "id": "C0aBD61mGBNG",
        "outputId": "18ec8fb1-a5ea-4469-a5a9-5c0dfaa31c5c"
      },
      "outputs": [
        {
          "output_type": "stream",
          "name": "stdout",
          "text": [
            "\u001b[1m44506/44506\u001b[0m \u001b[32m━━━━━━━━━━━━━━━━━━━━\u001b[0m\u001b[37m\u001b[0m \u001b[1m92s\u001b[0m 2ms/step\n"
          ]
        },
        {
          "output_type": "error",
          "ename": "KeyboardInterrupt",
          "evalue": "",
          "traceback": [
            "\u001b[0;31m---------------------------------------------------------------------------\u001b[0m",
            "\u001b[0;31mKeyboardInterrupt\u001b[0m                         Traceback (most recent call last)",
            "\u001b[0;32m<ipython-input-20-99c634873bca>\u001b[0m in \u001b[0;36m<cell line: 2>\u001b[0;34m()\u001b[0m\n\u001b[1;32m      1\u001b[0m \u001b[0;31m# Générer les recommandations\u001b[0m\u001b[0;34m\u001b[0m\u001b[0;34m\u001b[0m\u001b[0m\n\u001b[0;32m----> 2\u001b[0;31m \u001b[0mpredicted_products\u001b[0m \u001b[0;34m=\u001b[0m \u001b[0mpredict_product\u001b[0m\u001b[0;34m(\u001b[0m\u001b[0mmodel\u001b[0m\u001b[0;34m)\u001b[0m\u001b[0;34m\u001b[0m\u001b[0;34m\u001b[0m\u001b[0m\n\u001b[0m",
            "\u001b[0;32m<ipython-input-19-23199ab3f338>\u001b[0m in \u001b[0;36mpredict_product\u001b[0;34m(model, top_n)\u001b[0m\n\u001b[1;32m     17\u001b[0m \u001b[0;34m\u001b[0m\u001b[0m\n\u001b[1;32m     18\u001b[0m     \u001b[0;31m# Décoder les produits pour retourner les identifiants originaux\u001b[0m\u001b[0;34m\u001b[0m\u001b[0;34m\u001b[0m\u001b[0m\n\u001b[0;32m---> 19\u001b[0;31m     \u001b[0;32mreturn\u001b[0m \u001b[0;34m[\u001b[0m\u001b[0mproduct_encoder\u001b[0m\u001b[0;34m.\u001b[0m\u001b[0minverse_transform\u001b[0m\u001b[0;34m(\u001b[0m\u001b[0mtop_products\u001b[0m\u001b[0;34m[\u001b[0m\u001b[0mi\u001b[0m\u001b[0;34m]\u001b[0m\u001b[0;34m)\u001b[0m \u001b[0;32mfor\u001b[0m \u001b[0mi\u001b[0m \u001b[0;32min\u001b[0m \u001b[0mrange\u001b[0m\u001b[0;34m(\u001b[0m\u001b[0mlen\u001b[0m\u001b[0;34m(\u001b[0m\u001b[0mtop_products\u001b[0m\u001b[0;34m)\u001b[0m\u001b[0;34m)\u001b[0m\u001b[0;34m]\u001b[0m\u001b[0;34m\u001b[0m\u001b[0;34m\u001b[0m\u001b[0m\n\u001b[0m",
            "\u001b[0;32m<ipython-input-19-23199ab3f338>\u001b[0m in \u001b[0;36m<listcomp>\u001b[0;34m(.0)\u001b[0m\n\u001b[1;32m     17\u001b[0m \u001b[0;34m\u001b[0m\u001b[0m\n\u001b[1;32m     18\u001b[0m     \u001b[0;31m# Décoder les produits pour retourner les identifiants originaux\u001b[0m\u001b[0;34m\u001b[0m\u001b[0;34m\u001b[0m\u001b[0m\n\u001b[0;32m---> 19\u001b[0;31m     \u001b[0;32mreturn\u001b[0m \u001b[0;34m[\u001b[0m\u001b[0mproduct_encoder\u001b[0m\u001b[0;34m.\u001b[0m\u001b[0minverse_transform\u001b[0m\u001b[0;34m(\u001b[0m\u001b[0mtop_products\u001b[0m\u001b[0;34m[\u001b[0m\u001b[0mi\u001b[0m\u001b[0;34m]\u001b[0m\u001b[0;34m)\u001b[0m \u001b[0;32mfor\u001b[0m \u001b[0mi\u001b[0m \u001b[0;32min\u001b[0m \u001b[0mrange\u001b[0m\u001b[0;34m(\u001b[0m\u001b[0mlen\u001b[0m\u001b[0;34m(\u001b[0m\u001b[0mtop_products\u001b[0m\u001b[0;34m)\u001b[0m\u001b[0;34m)\u001b[0m\u001b[0;34m]\u001b[0m\u001b[0;34m\u001b[0m\u001b[0;34m\u001b[0m\u001b[0m\n\u001b[0m",
            "\u001b[0;32m/usr/local/lib/python3.10/dist-packages/sklearn/preprocessing/_label.py\u001b[0m in \u001b[0;36minverse_transform\u001b[0;34m(self, y)\u001b[0m\n\u001b[1;32m    156\u001b[0m         diff = _setdiff1d(\n\u001b[1;32m    157\u001b[0m             \u001b[0mar1\u001b[0m\u001b[0;34m=\u001b[0m\u001b[0my\u001b[0m\u001b[0;34m,\u001b[0m\u001b[0;34m\u001b[0m\u001b[0;34m\u001b[0m\u001b[0m\n\u001b[0;32m--> 158\u001b[0;31m             \u001b[0mar2\u001b[0m\u001b[0;34m=\u001b[0m\u001b[0mxp\u001b[0m\u001b[0;34m.\u001b[0m\u001b[0marange\u001b[0m\u001b[0;34m(\u001b[0m\u001b[0mself\u001b[0m\u001b[0;34m.\u001b[0m\u001b[0mclasses_\u001b[0m\u001b[0;34m.\u001b[0m\u001b[0mshape\u001b[0m\u001b[0;34m[\u001b[0m\u001b[0;36m0\u001b[0m\u001b[0;34m]\u001b[0m\u001b[0;34m,\u001b[0m \u001b[0mdevice\u001b[0m\u001b[0;34m=\u001b[0m\u001b[0mdevice\u001b[0m\u001b[0;34m(\u001b[0m\u001b[0my\u001b[0m\u001b[0;34m)\u001b[0m\u001b[0;34m)\u001b[0m\u001b[0;34m,\u001b[0m\u001b[0;34m\u001b[0m\u001b[0;34m\u001b[0m\u001b[0m\n\u001b[0m\u001b[1;32m    159\u001b[0m             \u001b[0mxp\u001b[0m\u001b[0;34m=\u001b[0m\u001b[0mxp\u001b[0m\u001b[0;34m,\u001b[0m\u001b[0;34m\u001b[0m\u001b[0;34m\u001b[0m\u001b[0m\n\u001b[1;32m    160\u001b[0m         )\n",
            "\u001b[0;32m/usr/local/lib/python3.10/dist-packages/sklearn/utils/_array_api.py\u001b[0m in \u001b[0;36mwrapped_func\u001b[0;34m(*args, **kwargs)\u001b[0m\n\u001b[1;32m    315\u001b[0m     \u001b[0;32mdef\u001b[0m \u001b[0mwrapped_func\u001b[0m\u001b[0;34m(\u001b[0m\u001b[0;34m*\u001b[0m\u001b[0margs\u001b[0m\u001b[0;34m,\u001b[0m \u001b[0;34m**\u001b[0m\u001b[0mkwargs\u001b[0m\u001b[0;34m)\u001b[0m\u001b[0;34m:\u001b[0m\u001b[0;34m\u001b[0m\u001b[0;34m\u001b[0m\u001b[0m\n\u001b[1;32m    316\u001b[0m         \u001b[0m_check_device_cpu\u001b[0m\u001b[0;34m(\u001b[0m\u001b[0mkwargs\u001b[0m\u001b[0;34m.\u001b[0m\u001b[0mpop\u001b[0m\u001b[0;34m(\u001b[0m\u001b[0;34m\"device\"\u001b[0m\u001b[0;34m,\u001b[0m \u001b[0;32mNone\u001b[0m\u001b[0;34m)\u001b[0m\u001b[0;34m)\u001b[0m\u001b[0;34m\u001b[0m\u001b[0;34m\u001b[0m\u001b[0m\n\u001b[0;32m--> 317\u001b[0;31m         \u001b[0;32mreturn\u001b[0m \u001b[0mfunc\u001b[0m\u001b[0;34m(\u001b[0m\u001b[0;34m*\u001b[0m\u001b[0margs\u001b[0m\u001b[0;34m,\u001b[0m \u001b[0;34m**\u001b[0m\u001b[0mkwargs\u001b[0m\u001b[0;34m)\u001b[0m\u001b[0;34m\u001b[0m\u001b[0;34m\u001b[0m\u001b[0m\n\u001b[0m\u001b[1;32m    318\u001b[0m \u001b[0;34m\u001b[0m\u001b[0m\n\u001b[1;32m    319\u001b[0m     \u001b[0;32mreturn\u001b[0m \u001b[0mwrapped_func\u001b[0m\u001b[0;34m\u001b[0m\u001b[0;34m\u001b[0m\u001b[0m\n",
            "\u001b[0;31mKeyboardInterrupt\u001b[0m: "
          ]
        }
      ],
      "source": [
        "# Générer les recommandations\n",
        "predicted_products = predict_product(model)"
      ]
    },
    {
      "cell_type": "code",
      "execution_count": null,
      "metadata": {
        "id": "0vNe8UFbGBNG"
      },
      "outputs": [],
      "source": [
        "def hitrate_at_k(test_data, predicted_products, k=10):\n",
        "    \"\"\"\n",
        "    Calcule le Hitrate@K.\n",
        "\n",
        "    Args:\n",
        "        test_data: Le jeu de données de test contenant les produits réellement achetés.\n",
        "        predicted_products: Liste des produits recommandés par le modèle.\n",
        "        k: Le nombre de recommandations à considérer (par défaut : 10).\n",
        "\n",
        "    Returns:\n",
        "        Le score Hitrate@K.\n",
        "    \"\"\"\n",
        "    hits = 0\n",
        "\n",
        "    for i, true_product in enumerate(test_data[\"product_id\"]):\n",
        "        if true_product in predicted_products[i][:k]:  # Vérifier si le vrai produit est dans les top K recommandations\n",
        "            hits += 1\n",
        "\n",
        "    return hits / len(test_data)\n",
        "\n",
        "\n",
        "# Calcul du Hitrate@10\n",
        "hitrate = hitrate_at_k(test_data, predicted_products, k=10)\n",
        "print(f\"Hitrate@10 : {hitrate:.2f}\")\n"
      ]
    }
  ],
  "metadata": {
    "kernelspec": {
      "display_name": "base",
      "language": "python",
      "name": "python3"
    },
    "language_info": {
      "codemirror_mode": {
        "name": "ipython",
        "version": 3
      },
      "file_extension": ".py",
      "mimetype": "text/x-python",
      "name": "python",
      "nbconvert_exporter": "python",
      "pygments_lexer": "ipython3",
      "version": "3.11.5"
    },
    "colab": {
      "provenance": [],
      "include_colab_link": true
    }
  },
  "nbformat": 4,
  "nbformat_minor": 0
}